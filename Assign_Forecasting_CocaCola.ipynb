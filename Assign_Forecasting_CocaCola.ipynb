{
  "nbformat": 4,
  "nbformat_minor": 0,
  "metadata": {
    "kernelspec": {
      "display_name": "Python 3",
      "language": "python",
      "name": "python3"
    },
    "language_info": {
      "codemirror_mode": {
        "name": "ipython",
        "version": 3
      },
      "file_extension": ".py",
      "mimetype": "text/x-python",
      "name": "python",
      "nbconvert_exporter": "python",
      "pygments_lexer": "ipython3",
      "version": "3.7.4"
    },
    "colab": {
      "name": "Assign_Forecasting_CocaCola.ipynb",
      "provenance": [],
      "collapsed_sections": [
        "xxKnn2cjbHP7",
        "r6hRuV3rbHP7",
        "PjW2286AbHP8",
        "DRuL_LFzbHP8",
        "Nacth3MybHP8"
      ],
      "include_colab_link": true
    }
  },
  "cells": [
    {
      "cell_type": "markdown",
      "metadata": {
        "id": "view-in-github",
        "colab_type": "text"
      },
      "source": [
        "<a href=\"https://colab.research.google.com/github/Sanvee0306/Assignments_DS/blob/main/Assign_Forecasting_CocaCola.ipynb\" target=\"_parent\"><img src=\"https://colab.research.google.com/assets/colab-badge.svg\" alt=\"Open In Colab\"/></a>"
      ]
    },
    {
      "cell_type": "code",
      "metadata": {
        "id": "cHJ6p_OBbHP5"
      },
      "source": [
        "# Import libraries\n",
        "from matplotlib import pyplot\n",
        "from numpy import sqrt\n",
        "import warnings\n",
        "import itertools\n",
        "import pandas as pd\n",
        "import numpy as np\n",
        "import matplotlib.pyplot as plt\n",
        "import statsmodels.api as sm"
      ],
      "execution_count": 2,
      "outputs": []
    },
    {
      "cell_type": "code",
      "metadata": {
        "id": "bmHhsXg7bHP7"
      },
      "source": [
        "series = pd.read_excel(\"/content/CocaCola_Sales_Rawdata.xlsx\", header=0, index_col=0, parse_dates=True)"
      ],
      "execution_count": 5,
      "outputs": []
    },
    {
      "cell_type": "code",
      "metadata": {
        "id": "f1_z2tiAbHP7",
        "colab": {
          "base_uri": "https://localhost:8080/",
          "height": 1000
        },
        "outputId": "f3604106-75a9-477c-89f4-e7584f9aa46c"
      },
      "source": [
        "series"
      ],
      "execution_count": 6,
      "outputs": [
        {
          "output_type": "execute_result",
          "data": {
            "text/html": [
              "<div>\n",
              "<style scoped>\n",
              "    .dataframe tbody tr th:only-of-type {\n",
              "        vertical-align: middle;\n",
              "    }\n",
              "\n",
              "    .dataframe tbody tr th {\n",
              "        vertical-align: top;\n",
              "    }\n",
              "\n",
              "    .dataframe thead th {\n",
              "        text-align: right;\n",
              "    }\n",
              "</style>\n",
              "<table border=\"1\" class=\"dataframe\">\n",
              "  <thead>\n",
              "    <tr style=\"text-align: right;\">\n",
              "      <th></th>\n",
              "      <th>Sales</th>\n",
              "    </tr>\n",
              "    <tr>\n",
              "      <th>Quarter</th>\n",
              "      <th></th>\n",
              "    </tr>\n",
              "  </thead>\n",
              "  <tbody>\n",
              "    <tr>\n",
              "      <th>Q1_86</th>\n",
              "      <td>1734.827000</td>\n",
              "    </tr>\n",
              "    <tr>\n",
              "      <th>Q2_86</th>\n",
              "      <td>2244.960999</td>\n",
              "    </tr>\n",
              "    <tr>\n",
              "      <th>Q3_86</th>\n",
              "      <td>2533.804993</td>\n",
              "    </tr>\n",
              "    <tr>\n",
              "      <th>Q4_86</th>\n",
              "      <td>2154.962997</td>\n",
              "    </tr>\n",
              "    <tr>\n",
              "      <th>Q1_87</th>\n",
              "      <td>1547.818996</td>\n",
              "    </tr>\n",
              "    <tr>\n",
              "      <th>Q2_87</th>\n",
              "      <td>2104.411995</td>\n",
              "    </tr>\n",
              "    <tr>\n",
              "      <th>Q3_87</th>\n",
              "      <td>2014.362999</td>\n",
              "    </tr>\n",
              "    <tr>\n",
              "      <th>Q4_87</th>\n",
              "      <td>1991.746998</td>\n",
              "    </tr>\n",
              "    <tr>\n",
              "      <th>Q1_88</th>\n",
              "      <td>1869.049999</td>\n",
              "    </tr>\n",
              "    <tr>\n",
              "      <th>Q2_88</th>\n",
              "      <td>2313.631996</td>\n",
              "    </tr>\n",
              "    <tr>\n",
              "      <th>Q3_88</th>\n",
              "      <td>2128.320000</td>\n",
              "    </tr>\n",
              "    <tr>\n",
              "      <th>Q4_88</th>\n",
              "      <td>2026.828999</td>\n",
              "    </tr>\n",
              "    <tr>\n",
              "      <th>Q1_89</th>\n",
              "      <td>1910.603996</td>\n",
              "    </tr>\n",
              "    <tr>\n",
              "      <th>Q2_89</th>\n",
              "      <td>2331.164993</td>\n",
              "    </tr>\n",
              "    <tr>\n",
              "      <th>Q3_89</th>\n",
              "      <td>2206.549995</td>\n",
              "    </tr>\n",
              "    <tr>\n",
              "      <th>Q4_89</th>\n",
              "      <td>2173.967995</td>\n",
              "    </tr>\n",
              "    <tr>\n",
              "      <th>Q1_90</th>\n",
              "      <td>2148.278000</td>\n",
              "    </tr>\n",
              "    <tr>\n",
              "      <th>Q2_90</th>\n",
              "      <td>2739.307999</td>\n",
              "    </tr>\n",
              "    <tr>\n",
              "      <th>Q3_90</th>\n",
              "      <td>2792.753998</td>\n",
              "    </tr>\n",
              "    <tr>\n",
              "      <th>Q4_90</th>\n",
              "      <td>2556.009995</td>\n",
              "    </tr>\n",
              "    <tr>\n",
              "      <th>Q1_91</th>\n",
              "      <td>2480.973999</td>\n",
              "    </tr>\n",
              "    <tr>\n",
              "      <th>Q2_91</th>\n",
              "      <td>3039.522995</td>\n",
              "    </tr>\n",
              "    <tr>\n",
              "      <th>Q3_91</th>\n",
              "      <td>3172.115997</td>\n",
              "    </tr>\n",
              "    <tr>\n",
              "      <th>Q4_91</th>\n",
              "      <td>2879.000999</td>\n",
              "    </tr>\n",
              "    <tr>\n",
              "      <th>Q1_92</th>\n",
              "      <td>2772.000000</td>\n",
              "    </tr>\n",
              "    <tr>\n",
              "      <th>Q2_92</th>\n",
              "      <td>3550.000000</td>\n",
              "    </tr>\n",
              "    <tr>\n",
              "      <th>Q3_92</th>\n",
              "      <td>3508.000000</td>\n",
              "    </tr>\n",
              "    <tr>\n",
              "      <th>Q4_92</th>\n",
              "      <td>3243.859993</td>\n",
              "    </tr>\n",
              "    <tr>\n",
              "      <th>Q1_93</th>\n",
              "      <td>3056.000000</td>\n",
              "    </tr>\n",
              "    <tr>\n",
              "      <th>Q2_93</th>\n",
              "      <td>3899.000000</td>\n",
              "    </tr>\n",
              "    <tr>\n",
              "      <th>Q3_93</th>\n",
              "      <td>3629.000000</td>\n",
              "    </tr>\n",
              "    <tr>\n",
              "      <th>Q4_93</th>\n",
              "      <td>3373.000000</td>\n",
              "    </tr>\n",
              "    <tr>\n",
              "      <th>Q1_94</th>\n",
              "      <td>3352.000000</td>\n",
              "    </tr>\n",
              "    <tr>\n",
              "      <th>Q2_94</th>\n",
              "      <td>4342.000000</td>\n",
              "    </tr>\n",
              "    <tr>\n",
              "      <th>Q3_94</th>\n",
              "      <td>4461.000000</td>\n",
              "    </tr>\n",
              "    <tr>\n",
              "      <th>Q4_94</th>\n",
              "      <td>4017.000000</td>\n",
              "    </tr>\n",
              "    <tr>\n",
              "      <th>Q1_95</th>\n",
              "      <td>3854.000000</td>\n",
              "    </tr>\n",
              "    <tr>\n",
              "      <th>Q2_95</th>\n",
              "      <td>4936.000000</td>\n",
              "    </tr>\n",
              "    <tr>\n",
              "      <th>Q3_95</th>\n",
              "      <td>4895.000000</td>\n",
              "    </tr>\n",
              "    <tr>\n",
              "      <th>Q4_95</th>\n",
              "      <td>4333.000000</td>\n",
              "    </tr>\n",
              "    <tr>\n",
              "      <th>Q1_96</th>\n",
              "      <td>4194.000000</td>\n",
              "    </tr>\n",
              "    <tr>\n",
              "      <th>Q2_96</th>\n",
              "      <td>5253.000000</td>\n",
              "    </tr>\n",
              "  </tbody>\n",
              "</table>\n",
              "</div>"
            ],
            "text/plain": [
              "               Sales\n",
              "Quarter             \n",
              "Q1_86    1734.827000\n",
              "Q2_86    2244.960999\n",
              "Q3_86    2533.804993\n",
              "Q4_86    2154.962997\n",
              "Q1_87    1547.818996\n",
              "Q2_87    2104.411995\n",
              "Q3_87    2014.362999\n",
              "Q4_87    1991.746998\n",
              "Q1_88    1869.049999\n",
              "Q2_88    2313.631996\n",
              "Q3_88    2128.320000\n",
              "Q4_88    2026.828999\n",
              "Q1_89    1910.603996\n",
              "Q2_89    2331.164993\n",
              "Q3_89    2206.549995\n",
              "Q4_89    2173.967995\n",
              "Q1_90    2148.278000\n",
              "Q2_90    2739.307999\n",
              "Q3_90    2792.753998\n",
              "Q4_90    2556.009995\n",
              "Q1_91    2480.973999\n",
              "Q2_91    3039.522995\n",
              "Q3_91    3172.115997\n",
              "Q4_91    2879.000999\n",
              "Q1_92    2772.000000\n",
              "Q2_92    3550.000000\n",
              "Q3_92    3508.000000\n",
              "Q4_92    3243.859993\n",
              "Q1_93    3056.000000\n",
              "Q2_93    3899.000000\n",
              "Q3_93    3629.000000\n",
              "Q4_93    3373.000000\n",
              "Q1_94    3352.000000\n",
              "Q2_94    4342.000000\n",
              "Q3_94    4461.000000\n",
              "Q4_94    4017.000000\n",
              "Q1_95    3854.000000\n",
              "Q2_95    4936.000000\n",
              "Q3_95    4895.000000\n",
              "Q4_95    4333.000000\n",
              "Q1_96    4194.000000\n",
              "Q2_96    5253.000000"
            ]
          },
          "metadata": {
            "tags": []
          },
          "execution_count": 6
        }
      ]
    },
    {
      "cell_type": "code",
      "metadata": {
        "colab": {
          "base_uri": "https://localhost:8080/"
        },
        "id": "-FF6vOeBcGSV",
        "outputId": "e040f56b-8303-4825-c1b0-73e4eb09d697"
      },
      "source": [
        "series.info()"
      ],
      "execution_count": 8,
      "outputs": [
        {
          "output_type": "stream",
          "text": [
            "<class 'pandas.core.frame.DataFrame'>\n",
            "Index: 42 entries, Q1_86 to Q2_96\n",
            "Data columns (total 1 columns):\n",
            " #   Column  Non-Null Count  Dtype  \n",
            "---  ------  --------------  -----  \n",
            " 0   Sales   42 non-null     float64\n",
            "dtypes: float64(1)\n",
            "memory usage: 672.0+ bytes\n"
          ],
          "name": "stdout"
        }
      ]
    },
    {
      "cell_type": "code",
      "metadata": {
        "id": "KMbSlAxfbHP7",
        "colab": {
          "base_uri": "https://localhost:8080/",
          "height": 280
        },
        "outputId": "72906209-02c6-4af2-8347-3f4f53bcf139"
      },
      "source": [
        "# line plot of time series\n",
        "from pandas import read_csv\n",
        "from matplotlib import pyplot\n",
        "series.plot()\n",
        "pyplot.show()"
      ],
      "execution_count": 9,
      "outputs": [
        {
          "output_type": "display_data",
          "data": {
            "image/png": "[encoded data removed]",
            "text/plain": [
              "<Figure size 432x288 with 1 Axes>"
            ]
          },
          "metadata": {
            "tags": [],
            "needs_background": "light"
          }
        }
      ]
    },
    {
      "cell_type": "code",
      "metadata": {
        "id": "W9T0n9WdbHP7",
        "colab": {
          "base_uri": "https://localhost:8080/",
          "height": 315
        },
        "outputId": "5bd1ee66-f518-43a7-af91-e3677ba0c348"
      },
      "source": [
        "series.hist()"
      ],
      "execution_count": 10,
      "outputs": [
        {
          "output_type": "execute_result",
          "data": {
            "text/plain": [
              "array([[<matplotlib.axes._subplots.AxesSubplot object at 0x7f9e4cd32f50>]],\n",
              "      dtype=object)"
            ]
          },
          "metadata": {
            "tags": []
          },
          "execution_count": 10
        },
        {
          "output_type": "display_data",
          "data": {
            "image/png": "[encoded data removed]",
            "text/plain": [
              "<Figure size 432x288 with 1 Axes>"
            ]
          },
          "metadata": {
            "tags": [],
            "needs_background": "light"
          }
        }
      ]
    },
    {
      "cell_type": "code",
      "metadata": {
        "id": "f8IhfBU0bHP7",
        "colab": {
          "base_uri": "https://localhost:8080/",
          "height": 282
        },
        "outputId": "64a6459a-13f4-42d8-e09e-ee3ae784c665"
      },
      "source": [
        "series.plot(kind='kde')"
      ],
      "execution_count": 11,
      "outputs": [
        {
          "output_type": "execute_result",
          "data": {
            "text/plain": [
              "<matplotlib.axes._subplots.AxesSubplot at 0x7f9e4ccd3d90>"
            ]
          },
          "metadata": {
            "tags": []
          },
          "execution_count": 11
        },
        {
          "output_type": "display_data",
          "data": {
            "image/png": "[encoded data removed]",
            "text/plain": [
              "<Figure size 432x288 with 1 Axes>"
            ]
          },
          "metadata": {
            "tags": [],
            "needs_background": "light"
          }
        }
      ]
    },
    {
      "cell_type": "code",
      "metadata": {
        "colab": {
          "base_uri": "https://localhost:8080/",
          "height": 279
        },
        "id": "ZKQwhhk0cwIJ",
        "outputId": "366de927-b1fd-438d-d891-2587e8a7e61b"
      },
      "source": [
        "# Lag plot\n",
        "# create a scatter plot\n",
        "from pandas.plotting import lag_plot\n",
        "lag_plot(series)\n",
        "pyplot.show()\n"
      ],
      "execution_count": 16,
      "outputs": [
        {
          "output_type": "display_data",
          "data": {
            "image/png": "[encoded data removed]",
            "text/plain": [
              "<Figure size 432x288 with 1 Axes>"
            ]
          },
          "metadata": {
            "tags": [],
            "needs_background": "light"
          }
        }
      ]
    },
    {
      "cell_type": "code",
      "metadata": {
        "colab": {
          "base_uri": "https://localhost:8080/",
          "height": 281
        },
        "id": "yiRVkfBpfgsg",
        "outputId": "65059bd9-2c8f-4eb4-b516-ea5b1c4d9280"
      },
      "source": [
        "# create an autocorrelation plot\n",
        "from statsmodels.graphics.tsaplots import plot_acf\n",
        "plot_acf(series,lags=30)\n",
        "pyplot.show()\n"
      ],
      "execution_count": 17,
      "outputs": [
        {
          "output_type": "display_data",
          "data": {
            "image/png": "[encoded data removed]",
            "text/plain": [
              "<Figure size 432x288 with 1 Axes>"
            ]
          },
          "metadata": {
            "tags": [],
            "needs_background": "light"
          }
        }
      ]
    },
    {
      "cell_type": "code",
      "metadata": {
        "colab": {
          "base_uri": "https://localhost:8080/",
          "height": 1000
        },
        "id": "JGlXrEhlfmbt",
        "outputId": "850fc9d6-1fb8-4ad1-bc41-fe7a3cfb0502"
      },
      "source": [
        "series[\"t\"] = np.arange(1,43)\n",
        "\n",
        "series[\"t_sq\"] = series[\"t\"]*series[\"t\"]\n",
        "\n",
        "series[\"log_sales\"] = np.log(series[\"Sales\"])\n",
        "series"
      ],
      "execution_count": 21,
      "outputs": [
        {
          "output_type": "execute_result",
          "data": {
            "text/html": [
              "<div>\n",
              "<style scoped>\n",
              "    .dataframe tbody tr th:only-of-type {\n",
              "        vertical-align: middle;\n",
              "    }\n",
              "\n",
              "    .dataframe tbody tr th {\n",
              "        vertical-align: top;\n",
              "    }\n",
              "\n",
              "    .dataframe thead th {\n",
              "        text-align: right;\n",
              "    }\n",
              "</style>\n",
              "<table border=\"1\" class=\"dataframe\">\n",
              "  <thead>\n",
              "    <tr style=\"text-align: right;\">\n",
              "      <th></th>\n",
              "      <th>Sales</th>\n",
              "      <th>t</th>\n",
              "      <th>t_sq</th>\n",
              "      <th>log_sales</th>\n",
              "    </tr>\n",
              "    <tr>\n",
              "      <th>Quarter</th>\n",
              "      <th></th>\n",
              "      <th></th>\n",
              "      <th></th>\n",
              "      <th></th>\n",
              "    </tr>\n",
              "  </thead>\n",
              "  <tbody>\n",
              "    <tr>\n",
              "      <th>Q1_86</th>\n",
              "      <td>1734.827000</td>\n",
              "      <td>1</td>\n",
              "      <td>1</td>\n",
              "      <td>7.458663</td>\n",
              "    </tr>\n",
              "    <tr>\n",
              "      <th>Q2_86</th>\n",
              "      <td>2244.960999</td>\n",
              "      <td>2</td>\n",
              "      <td>4</td>\n",
              "      <td>7.716443</td>\n",
              "    </tr>\n",
              "    <tr>\n",
              "      <th>Q3_86</th>\n",
              "      <td>2533.804993</td>\n",
              "      <td>3</td>\n",
              "      <td>9</td>\n",
              "      <td>7.837477</td>\n",
              "    </tr>\n",
              "    <tr>\n",
              "      <th>Q4_86</th>\n",
              "      <td>2154.962997</td>\n",
              "      <td>4</td>\n",
              "      <td>16</td>\n",
              "      <td>7.675529</td>\n",
              "    </tr>\n",
              "    <tr>\n",
              "      <th>Q1_87</th>\n",
              "      <td>1547.818996</td>\n",
              "      <td>5</td>\n",
              "      <td>25</td>\n",
              "      <td>7.344602</td>\n",
              "    </tr>\n",
              "    <tr>\n",
              "      <th>Q2_87</th>\n",
              "      <td>2104.411995</td>\n",
              "      <td>6</td>\n",
              "      <td>36</td>\n",
              "      <td>7.651791</td>\n",
              "    </tr>\n",
              "    <tr>\n",
              "      <th>Q3_87</th>\n",
              "      <td>2014.362999</td>\n",
              "      <td>7</td>\n",
              "      <td>49</td>\n",
              "      <td>7.608058</td>\n",
              "    </tr>\n",
              "    <tr>\n",
              "      <th>Q4_87</th>\n",
              "      <td>1991.746998</td>\n",
              "      <td>8</td>\n",
              "      <td>64</td>\n",
              "      <td>7.596767</td>\n",
              "    </tr>\n",
              "    <tr>\n",
              "      <th>Q1_88</th>\n",
              "      <td>1869.049999</td>\n",
              "      <td>9</td>\n",
              "      <td>81</td>\n",
              "      <td>7.533186</td>\n",
              "    </tr>\n",
              "    <tr>\n",
              "      <th>Q2_88</th>\n",
              "      <td>2313.631996</td>\n",
              "      <td>10</td>\n",
              "      <td>100</td>\n",
              "      <td>7.746574</td>\n",
              "    </tr>\n",
              "    <tr>\n",
              "      <th>Q3_88</th>\n",
              "      <td>2128.320000</td>\n",
              "      <td>11</td>\n",
              "      <td>121</td>\n",
              "      <td>7.663088</td>\n",
              "    </tr>\n",
              "    <tr>\n",
              "      <th>Q4_88</th>\n",
              "      <td>2026.828999</td>\n",
              "      <td>12</td>\n",
              "      <td>144</td>\n",
              "      <td>7.614228</td>\n",
              "    </tr>\n",
              "    <tr>\n",
              "      <th>Q1_89</th>\n",
              "      <td>1910.603996</td>\n",
              "      <td>13</td>\n",
              "      <td>169</td>\n",
              "      <td>7.555175</td>\n",
              "    </tr>\n",
              "    <tr>\n",
              "      <th>Q2_89</th>\n",
              "      <td>2331.164993</td>\n",
              "      <td>14</td>\n",
              "      <td>196</td>\n",
              "      <td>7.754123</td>\n",
              "    </tr>\n",
              "    <tr>\n",
              "      <th>Q3_89</th>\n",
              "      <td>2206.549995</td>\n",
              "      <td>15</td>\n",
              "      <td>225</td>\n",
              "      <td>7.699185</td>\n",
              "    </tr>\n",
              "    <tr>\n",
              "      <th>Q4_89</th>\n",
              "      <td>2173.967995</td>\n",
              "      <td>16</td>\n",
              "      <td>256</td>\n",
              "      <td>7.684309</td>\n",
              "    </tr>\n",
              "    <tr>\n",
              "      <th>Q1_90</th>\n",
              "      <td>2148.278000</td>\n",
              "      <td>17</td>\n",
              "      <td>289</td>\n",
              "      <td>7.672422</td>\n",
              "    </tr>\n",
              "    <tr>\n",
              "      <th>Q2_90</th>\n",
              "      <td>2739.307999</td>\n",
              "      <td>18</td>\n",
              "      <td>324</td>\n",
              "      <td>7.915461</td>\n",
              "    </tr>\n",
              "    <tr>\n",
              "      <th>Q3_90</th>\n",
              "      <td>2792.753998</td>\n",
              "      <td>19</td>\n",
              "      <td>361</td>\n",
              "      <td>7.934783</td>\n",
              "    </tr>\n",
              "    <tr>\n",
              "      <th>Q4_90</th>\n",
              "      <td>2556.009995</td>\n",
              "      <td>20</td>\n",
              "      <td>400</td>\n",
              "      <td>7.846203</td>\n",
              "    </tr>\n",
              "    <tr>\n",
              "      <th>Q1_91</th>\n",
              "      <td>2480.973999</td>\n",
              "      <td>21</td>\n",
              "      <td>441</td>\n",
              "      <td>7.816407</td>\n",
              "    </tr>\n",
              "    <tr>\n",
              "      <th>Q2_91</th>\n",
              "      <td>3039.522995</td>\n",
              "      <td>22</td>\n",
              "      <td>484</td>\n",
              "      <td>8.019456</td>\n",
              "    </tr>\n",
              "    <tr>\n",
              "      <th>Q3_91</th>\n",
              "      <td>3172.115997</td>\n",
              "      <td>23</td>\n",
              "      <td>529</td>\n",
              "      <td>8.062154</td>\n",
              "    </tr>\n",
              "    <tr>\n",
              "      <th>Q4_91</th>\n",
              "      <td>2879.000999</td>\n",
              "      <td>24</td>\n",
              "      <td>576</td>\n",
              "      <td>7.965199</td>\n",
              "    </tr>\n",
              "    <tr>\n",
              "      <th>Q1_92</th>\n",
              "      <td>2772.000000</td>\n",
              "      <td>25</td>\n",
              "      <td>625</td>\n",
              "      <td>7.927324</td>\n",
              "    </tr>\n",
              "    <tr>\n",
              "      <th>Q2_92</th>\n",
              "      <td>3550.000000</td>\n",
              "      <td>26</td>\n",
              "      <td>676</td>\n",
              "      <td>8.174703</td>\n",
              "    </tr>\n",
              "    <tr>\n",
              "      <th>Q3_92</th>\n",
              "      <td>3508.000000</td>\n",
              "      <td>27</td>\n",
              "      <td>729</td>\n",
              "      <td>8.162801</td>\n",
              "    </tr>\n",
              "    <tr>\n",
              "      <th>Q4_92</th>\n",
              "      <td>3243.859993</td>\n",
              "      <td>28</td>\n",
              "      <td>784</td>\n",
              "      <td>8.084519</td>\n",
              "    </tr>\n",
              "    <tr>\n",
              "      <th>Q1_93</th>\n",
              "      <td>3056.000000</td>\n",
              "      <td>29</td>\n",
              "      <td>841</td>\n",
              "      <td>8.024862</td>\n",
              "    </tr>\n",
              "    <tr>\n",
              "      <th>Q2_93</th>\n",
              "      <td>3899.000000</td>\n",
              "      <td>30</td>\n",
              "      <td>900</td>\n",
              "      <td>8.268475</td>\n",
              "    </tr>\n",
              "    <tr>\n",
              "      <th>Q3_93</th>\n",
              "      <td>3629.000000</td>\n",
              "      <td>31</td>\n",
              "      <td>961</td>\n",
              "      <td>8.196712</td>\n",
              "    </tr>\n",
              "    <tr>\n",
              "      <th>Q4_93</th>\n",
              "      <td>3373.000000</td>\n",
              "      <td>32</td>\n",
              "      <td>1024</td>\n",
              "      <td>8.123558</td>\n",
              "    </tr>\n",
              "    <tr>\n",
              "      <th>Q1_94</th>\n",
              "      <td>3352.000000</td>\n",
              "      <td>33</td>\n",
              "      <td>1089</td>\n",
              "      <td>8.117312</td>\n",
              "    </tr>\n",
              "    <tr>\n",
              "      <th>Q2_94</th>\n",
              "      <td>4342.000000</td>\n",
              "      <td>34</td>\n",
              "      <td>1156</td>\n",
              "      <td>8.376090</td>\n",
              "    </tr>\n",
              "    <tr>\n",
              "      <th>Q3_94</th>\n",
              "      <td>4461.000000</td>\n",
              "      <td>35</td>\n",
              "      <td>1225</td>\n",
              "      <td>8.403128</td>\n",
              "    </tr>\n",
              "    <tr>\n",
              "      <th>Q4_94</th>\n",
              "      <td>4017.000000</td>\n",
              "      <td>36</td>\n",
              "      <td>1296</td>\n",
              "      <td>8.298291</td>\n",
              "    </tr>\n",
              "    <tr>\n",
              "      <th>Q1_95</th>\n",
              "      <td>3854.000000</td>\n",
              "      <td>37</td>\n",
              "      <td>1369</td>\n",
              "      <td>8.256867</td>\n",
              "    </tr>\n",
              "    <tr>\n",
              "      <th>Q2_95</th>\n",
              "      <td>4936.000000</td>\n",
              "      <td>38</td>\n",
              "      <td>1444</td>\n",
              "      <td>8.504311</td>\n",
              "    </tr>\n",
              "    <tr>\n",
              "      <th>Q3_95</th>\n",
              "      <td>4895.000000</td>\n",
              "      <td>39</td>\n",
              "      <td>1521</td>\n",
              "      <td>8.495970</td>\n",
              "    </tr>\n",
              "    <tr>\n",
              "      <th>Q4_95</th>\n",
              "      <td>4333.000000</td>\n",
              "      <td>40</td>\n",
              "      <td>1600</td>\n",
              "      <td>8.374015</td>\n",
              "    </tr>\n",
              "    <tr>\n",
              "      <th>Q1_96</th>\n",
              "      <td>4194.000000</td>\n",
              "      <td>41</td>\n",
              "      <td>1681</td>\n",
              "      <td>8.341410</td>\n",
              "    </tr>\n",
              "    <tr>\n",
              "      <th>Q2_96</th>\n",
              "      <td>5253.000000</td>\n",
              "      <td>42</td>\n",
              "      <td>1764</td>\n",
              "      <td>8.566555</td>\n",
              "    </tr>\n",
              "  </tbody>\n",
              "</table>\n",
              "</div>"
            ],
            "text/plain": [
              "               Sales   t  t_sq  log_sales\n",
              "Quarter                                  \n",
              "Q1_86    1734.827000   1     1   7.458663\n",
              "Q2_86    2244.960999   2     4   7.716443\n",
              "Q3_86    2533.804993   3     9   7.837477\n",
              "Q4_86    2154.962997   4    16   7.675529\n",
              "Q1_87    1547.818996   5    25   7.344602\n",
              "Q2_87    2104.411995   6    36   7.651791\n",
              "Q3_87    2014.362999   7    49   7.608058\n",
              "Q4_87    1991.746998   8    64   7.596767\n",
              "Q1_88    1869.049999   9    81   7.533186\n",
              "Q2_88    2313.631996  10   100   7.746574\n",
              "Q3_88    2128.320000  11   121   7.663088\n",
              "Q4_88    2026.828999  12   144   7.614228\n",
              "Q1_89    1910.603996  13   169   7.555175\n",
              "Q2_89    2331.164993  14   196   7.754123\n",
              "Q3_89    2206.549995  15   225   7.699185\n",
              "Q4_89    2173.967995  16   256   7.684309\n",
              "Q1_90    2148.278000  17   289   7.672422\n",
              "Q2_90    2739.307999  18   324   7.915461\n",
              "Q3_90    2792.753998  19   361   7.934783\n",
              "Q4_90    2556.009995  20   400   7.846203\n",
              "Q1_91    2480.973999  21   441   7.816407\n",
              "Q2_91    3039.522995  22   484   8.019456\n",
              "Q3_91    3172.115997  23   529   8.062154\n",
              "Q4_91    2879.000999  24   576   7.965199\n",
              "Q1_92    2772.000000  25   625   7.927324\n",
              "Q2_92    3550.000000  26   676   8.174703\n",
              "Q3_92    3508.000000  27   729   8.162801\n",
              "Q4_92    3243.859993  28   784   8.084519\n",
              "Q1_93    3056.000000  29   841   8.024862\n",
              "Q2_93    3899.000000  30   900   8.268475\n",
              "Q3_93    3629.000000  31   961   8.196712\n",
              "Q4_93    3373.000000  32  1024   8.123558\n",
              "Q1_94    3352.000000  33  1089   8.117312\n",
              "Q2_94    4342.000000  34  1156   8.376090\n",
              "Q3_94    4461.000000  35  1225   8.403128\n",
              "Q4_94    4017.000000  36  1296   8.298291\n",
              "Q1_95    3854.000000  37  1369   8.256867\n",
              "Q2_95    4936.000000  38  1444   8.504311\n",
              "Q3_95    4895.000000  39  1521   8.495970\n",
              "Q4_95    4333.000000  40  1600   8.374015\n",
              "Q1_96    4194.000000  41  1681   8.341410\n",
              "Q2_96    5253.000000  42  1764   8.566555"
            ]
          },
          "metadata": {
            "tags": []
          },
          "execution_count": 21
        }
      ]
    },
    {
      "cell_type": "code",
      "metadata": {
        "id": "RrPaPwFhcqvp"
      },
      "source": [
        "\n",
        "#splitting data\n",
        "Train = series.head(35)\n",
        "Test = series.tail(7)"
      ],
      "execution_count": 22,
      "outputs": []
    },
    {
      "cell_type": "markdown",
      "metadata": {
        "id": "Z-o1VPQafwd5"
      },
      "source": [
        "# **Forecasting Using Model Based Method**"
      ]
    },
    {
      "cell_type": "code",
      "metadata": {
        "colab": {
          "base_uri": "https://localhost:8080/"
        },
        "id": "yZbEOlfKgHm-",
        "outputId": "4e7b4282-9ca9-4b68-82d1-3964eb99f211"
      },
      "source": [
        "import statsmodels.formula.api as smf \n",
        "\n",
        "linear_model = smf.ols('Sales~t',data=Train).fit()\n",
        "pred_linear =  pd.Series(linear_model.predict(pd.DataFrame(Test['t'])))\n",
        "rmse_linear = np.sqrt(np.mean((np.array(Test['Sales'])-np.array(pred_linear))**2))\n",
        "rmse_linear"
      ],
      "execution_count": 23,
      "outputs": [
        {
          "output_type": "execute_result",
          "data": {
            "text/plain": [
              "636.5072930351143"
            ]
          },
          "metadata": {
            "tags": []
          },
          "execution_count": 23
        }
      ]
    },
    {
      "cell_type": "code",
      "metadata": {
        "colab": {
          "base_uri": "https://localhost:8080/"
        },
        "id": "7Kxsf8nGgjtS",
        "outputId": "15a8ce34-247e-4885-8ebd-089e4d45d7c4"
      },
      "source": [
        "Exp = smf.ols('log_sales~t',data=Train).fit()\n",
        "pred_Exp = pd.Series(Exp.predict(pd.DataFrame(Test['t'])))\n",
        "rmse_Exp = np.sqrt(np.mean((np.array(Test['Sales'])-np.array(np.exp(pred_Exp)))**2))\n",
        "rmse_Exp"
      ],
      "execution_count": 24,
      "outputs": [
        {
          "output_type": "execute_result",
          "data": {
            "text/plain": [
              "493.34864848421216"
            ]
          },
          "metadata": {
            "tags": []
          },
          "execution_count": 24
        }
      ]
    },
    {
      "cell_type": "code",
      "metadata": {
        "colab": {
          "base_uri": "https://localhost:8080/"
        },
        "id": "fC10qzcqgpCA",
        "outputId": "6e07008c-bd49-48cf-ba7b-1f26e92f016f"
      },
      "source": [
        "Quad = smf.ols('Sales~t+t_sq',data=Train).fit()\n",
        "pred_Quad = pd.Series(Quad.predict(Test[[\"t\",\"t_sq\"]]))\n",
        "rmse_Quad = np.sqrt(np.mean((np.array(Test['Sales'])-np.array(pred_Quad))**2))\n",
        "rmse_Quad"
      ],
      "execution_count": 25,
      "outputs": [
        {
          "output_type": "execute_result",
          "data": {
            "text/plain": [
              "511.8117319417314"
            ]
          },
          "metadata": {
            "tags": []
          },
          "execution_count": 25
        }
      ]
    },
    {
      "cell_type": "code",
      "metadata": {
        "id": "N6rJi6rkbHP7",
        "colab": {
          "base_uri": "https://localhost:8080/"
        },
        "outputId": "85b302d6-fcd4-4e9f-96cc-c9086b1ea778"
      },
      "source": [
        "# separate out a validation dataset\n",
        "split_point = len(series) - 10\n",
        "dataset, validation = series[0:split_point], series[split_point:]\n",
        "print('Dataset %d, Validation %d' % (len(dataset), len(validation)))\n",
        "dataset.to_csv('dataset.csv', header=False)\n",
        "validation.to_csv('validation.csv', header=False)"
      ],
      "execution_count": 12,
      "outputs": [
        {
          "output_type": "stream",
          "text": [
            "Dataset 32, Validation 10\n"
          ],
          "name": "stdout"
        }
      ]
    },
    {
      "cell_type": "markdown",
      "metadata": {
        "id": "xxKnn2cjbHP7"
      },
      "source": [
        "#### Persistence/ Base model"
      ]
    },
    {
      "cell_type": "code",
      "metadata": {
        "id": "WGi3OWgpbHP7"
      },
      "source": [
        "# evaluate a persistence model\n",
        "from pandas import read_csv\n",
        "from sklearn.metrics import mean_squared_error\n",
        "from math import sqrt\n",
        "# load data\n",
        "train = read_csv(\"/content/dataset.csv\", header=None, index_col=0, parse_dates=True, squeeze=True)\n",
        "# prepare data\n",
        "X = train.values\n",
        "X = X.astype('float32')\n",
        "train_size = int(len(X) * 0.50)\n",
        "train, test = X[0:train_size], X[train_size:]\n"
      ],
      "execution_count": 28,
      "outputs": []
    },
    {
      "cell_type": "code",
      "metadata": {
        "id": "Ik8-3UhzbHP7",
        "colab": {
          "base_uri": "https://localhost:8080/"
        },
        "outputId": "f946d57c-8207-4dcf-9142-0405327caed9"
      },
      "source": [
        "# walk-forward validation\n",
        "history = [x for x in train]\n",
        "predictions = list()\n",
        "for i in range(len(test)):\n",
        "    yhat = history[-1]\n",
        "    predictions.append(yhat)\n",
        "# observation\n",
        "    obs = test[i]\n",
        "    history.append(obs)\n",
        "    print('>Predicted=%.3f, Expected=%.3f' % (yhat, obs))\n",
        "# report performance\n",
        "rmse = sqrt(mean_squared_error(test, predictions))\n",
        "print('RMSE: %.3f' % rmse)"
      ],
      "execution_count": 29,
      "outputs": [
        {
          "output_type": "stream",
          "text": [
            ">Predicted=2173.968, Expected=2148.278\n",
            ">Predicted=2148.278, Expected=2739.308\n",
            ">Predicted=2739.308, Expected=2792.754\n",
            ">Predicted=2792.754, Expected=2556.010\n",
            ">Predicted=2556.010, Expected=2480.974\n",
            ">Predicted=2480.974, Expected=3039.523\n",
            ">Predicted=3039.523, Expected=3172.116\n",
            ">Predicted=3172.116, Expected=2879.001\n",
            ">Predicted=2879.001, Expected=2772.000\n",
            ">Predicted=2772.000, Expected=3550.000\n",
            ">Predicted=3550.000, Expected=3508.000\n",
            ">Predicted=3508.000, Expected=3243.860\n",
            ">Predicted=3243.860, Expected=3056.000\n",
            ">Predicted=3056.000, Expected=3899.000\n",
            ">Predicted=3899.000, Expected=3629.000\n",
            ">Predicted=3629.000, Expected=3373.000\n",
            "RMSE: 387.510\n"
          ],
          "name": "stdout"
        }
      ]
    },
    {
      "cell_type": "markdown",
      "metadata": {
        "id": "r6hRuV3rbHP7"
      },
      "source": [
        "#### ARIMA Hyperparameters"
      ]
    },
    {
      "cell_type": "code",
      "metadata": {
        "id": "fePHBXvwbHP7"
      },
      "source": [
        "# grid search ARIMA parameters for a time series\n",
        "\n",
        "import warnings\n",
        "from pandas import read_csv\n",
        "from statsmodels.tsa.arima_model import ARIMA\n",
        "from sklearn.metrics import mean_squared_error\n",
        "from math import sqrt\n",
        "\n",
        "\n",
        "# evaluate an ARIMA model for a given order (p,d,q) and return RMSE\n",
        "def evaluate_arima_model(X, arima_order):\n",
        "# prepare training dataset\n",
        "    X = X.astype('float32')\n",
        "    train_size = int(len(X) * 0.50)\n",
        "    train, test = X[0:train_size], X[train_size:]\n",
        "    history = [x for x in train]\n",
        "# make predictions\n",
        "    predictions = list()\n",
        "    for t in range(len(test)):\n",
        "        model = ARIMA(history, order=arima_order)\n",
        "# model_fit = model.fit(disp=0)\n",
        "        model_fit = model.fit(disp=0)\n",
        "        yhat = model_fit.forecast()[0]\n",
        "        predictions.append(yhat)\n",
        "        history.append(test[t])\n",
        "# calculate out of sample error\n",
        "    rmse = sqrt(mean_squared_error(test, predictions))\n",
        "    return rmse"
      ],
      "execution_count": 31,
      "outputs": []
    },
    {
      "cell_type": "markdown",
      "metadata": {
        "id": "PjW2286AbHP8"
      },
      "source": [
        "#### Grid search for p,d,q values"
      ]
    },
    {
      "cell_type": "code",
      "metadata": {
        "id": "3DI3lEkLbHP8"
      },
      "source": [
        "# evaluate combinations of p, d and q values for an ARIMA model\n",
        "def evaluate_models(dataset, p_values, d_values, q_values):\n",
        "    dataset = dataset.astype('float32')\n",
        "    best_score, best_cfg = float('inf'), None\n",
        "    for p in p_values:\n",
        "        for d in d_values:\n",
        "            for q in q_values:\n",
        "                order = (p,d,q)\n",
        "                try:\n",
        "                    rmse = evaluate_arima_model(train, order)\n",
        "                    if rmse < best_score:\n",
        "                        best_score, best_cfg = rmse, order\n",
        "                    print('ARIMA%s RMSE=%.3f' % (order,rmse))\n",
        "                except:\n",
        "                    continue\n",
        "    print('Best ARIMA%s RMSE=%.3f' % (best_cfg, best_score))"
      ],
      "execution_count": 32,
      "outputs": []
    },
    {
      "cell_type": "code",
      "metadata": {
        "id": "zYgjPPiJbHP8",
        "colab": {
          "base_uri": "https://localhost:8080/"
        },
        "outputId": "e6647b00-e418-484b-ca6e-c22862b2a48d"
      },
      "source": [
        "# load dataset\n",
        "train = read_csv('dataset.csv', header=None, index_col=0, parse_dates=True, squeeze=True)\n",
        "# evaluate parameters\n",
        "p_values = range(0, 5)\n",
        "d_values = range(0, 5)\n",
        "q_values = range(0, 5)\n",
        "warnings.filterwarnings(\"ignore\")\n",
        "evaluate_models(train.values, p_values, d_values, q_values)"
      ],
      "execution_count": 33,
      "outputs": [
        {
          "output_type": "stream",
          "text": [
            "ARIMA(0, 0, 0) RMSE=840.936\n",
            "ARIMA(0, 0, 1) RMSE=617.891\n",
            "ARIMA(0, 0, 2) RMSE=450.670\n",
            "ARIMA(0, 1, 0) RMSE=389.741\n",
            "ARIMA(0, 1, 1) RMSE=396.142\n",
            "ARIMA(0, 1, 2) RMSE=354.964\n",
            "ARIMA(0, 1, 4) RMSE=272.869\n",
            "ARIMA(0, 2, 0) RMSE=593.232\n",
            "ARIMA(0, 2, 1) RMSE=414.867\n",
            "ARIMA(1, 0, 0) RMSE=470.343\n",
            "ARIMA(1, 1, 0) RMSE=387.222\n",
            "ARIMA(1, 2, 0) RMSE=574.838\n",
            "ARIMA(2, 0, 0) RMSE=493.077\n",
            "ARIMA(2, 1, 0) RMSE=300.157\n",
            "ARIMA(2, 1, 1) RMSE=327.956\n",
            "ARIMA(2, 2, 0) RMSE=485.191\n",
            "ARIMA(3, 0, 0) RMSE=431.275\n",
            "ARIMA(3, 1, 0) RMSE=245.267\n",
            "ARIMA(3, 2, 0) RMSE=156.740\n",
            "ARIMA(4, 0, 0) RMSE=387.570\n",
            "ARIMA(4, 1, 0) RMSE=163.620\n",
            "ARIMA(4, 2, 0) RMSE=161.625\n",
            "Best ARIMA(3, 2, 0) RMSE=156.740\n"
          ],
          "name": "stdout"
        }
      ]
    },
    {
      "cell_type": "markdown",
      "metadata": {
        "id": "DRuL_LFzbHP8"
      },
      "source": [
        "#### Build Model based on the optimized values"
      ]
    },
    {
      "cell_type": "code",
      "metadata": {
        "id": "zhkJ0OTcbHP8"
      },
      "source": [
        "# save finalized model to file\n",
        "from pandas import read_csv\n",
        "from statsmodels.tsa.arima_model import ARIMA\n",
        "import numpy"
      ],
      "execution_count": 34,
      "outputs": []
    },
    {
      "cell_type": "code",
      "metadata": {
        "id": "FZOBbROfbHP8"
      },
      "source": [
        "# load data\n",
        "train = read_csv('dataset.csv', header=0, index_col=0, parse_dates=True)\n",
        "# prepare data\n",
        "X = train.values\n",
        "X = X.astype('float32')"
      ],
      "execution_count": 35,
      "outputs": []
    },
    {
      "cell_type": "code",
      "metadata": {
        "id": "q7TTmEkPbHP8",
        "colab": {
          "base_uri": "https://localhost:8080/",
          "height": 517
        },
        "outputId": "49b12cc5-ab29-4c93-8388-aa3f84b9053d"
      },
      "source": [
        "# fit model\n",
        "model = ARIMA(X, order=(4,1,0))\n",
        "model_fit = model.fit()\n",
        "forecast=model_fit.forecast(steps=10)[0]\n",
        "model_fit.plot_predict(1, 79)"
      ],
      "execution_count": 38,
      "outputs": [
        {
          "output_type": "execute_result",
          "data": {
            "image/png": "[encoded data removed]",
            "text/plain": [
              "<Figure size 432x288 with 1 Axes>"
            ]
          },
          "metadata": {
            "tags": []
          },
          "execution_count": 38
        },
        {
          "output_type": "display_data",
          "data": {
            "image/png": "[encoded data removed]",
            "text/plain": [
              "<Figure size 432x288 with 1 Axes>"
            ]
          },
          "metadata": {
            "tags": [],
            "needs_background": "light"
          }
        }
      ]
    },
    {
      "cell_type": "code",
      "metadata": {
        "id": "MBTsRlxZbHP8",
        "colab": {
          "base_uri": "https://localhost:8080/"
        },
        "outputId": "6dd5ca39-58ba-4f95-cdf9-5db695425223"
      },
      "source": [
        "#Error on the test data\n",
        "val=pd.read_csv('validation.csv',header=None)\n",
        "rmse = sqrt(mean_squared_error(val[1], forecast))\n",
        "rmse"
      ],
      "execution_count": 39,
      "outputs": [
        {
          "output_type": "execute_result",
          "data": {
            "text/plain": [
              "629.1580340574758"
            ]
          },
          "metadata": {
            "tags": []
          },
          "execution_count": 39
        }
      ]
    },
    {
      "cell_type": "markdown",
      "metadata": {
        "id": "Nacth3MybHP8"
      },
      "source": [
        "#### Combine train and test data and build final model"
      ]
    },
    {
      "cell_type": "code",
      "metadata": {
        "id": "7Kim3xHobHP8"
      },
      "source": [
        "# fit model\n",
        "data = pd.read_excel(\"/content/CocaCola_Sales_Rawdata.xlsx\", header=0, index_col=0, parse_dates=True)\n",
        "# prepare data\n",
        "X = train.values\n",
        "X = X.astype('float32')"
      ],
      "execution_count": 42,
      "outputs": []
    },
    {
      "cell_type": "code",
      "metadata": {
        "id": "6UFRS7AhbHP8"
      },
      "source": [
        "model = ARIMA(X, order=(4,1,0))\n",
        "model_fit = model.fit()"
      ],
      "execution_count": 43,
      "outputs": []
    },
    {
      "cell_type": "code",
      "metadata": {
        "id": "eujyHC8DbHP8",
        "colab": {
          "base_uri": "https://localhost:8080/",
          "height": 515
        },
        "outputId": "6d1dd8b0-6025-4060-e932-2ebfd25486a7"
      },
      "source": [
        "forecast=model_fit.forecast(steps=10)[0]\n",
        "model_fit.plot_predict(1,80)"
      ],
      "execution_count": 44,
      "outputs": [
        {
          "output_type": "execute_result",
          "data": {
            "image/png": "[encoded data removed]",
            "text/plain": [
              "<Figure size 432x288 with 1 Axes>"
            ]
          },
          "metadata": {
            "tags": []
          },
          "execution_count": 44
        },
        {
          "output_type": "display_data",
          "data": {
            "image/png": "[encoded data removed]",
            "text/plain": [
              "<Figure size 432x288 with 1 Axes>"
            ]
          },
          "metadata": {
            "tags": [],
            "needs_background": "light"
          }
        }
      ]
    },
    {
      "cell_type": "code",
      "metadata": {
        "id": "2t1AXGBLbHP8",
        "colab": {
          "base_uri": "https://localhost:8080/"
        },
        "outputId": "3d19c532-48a2-45e8-bfd0-7315f2bc6dfd"
      },
      "source": [
        "forecast"
      ],
      "execution_count": 45,
      "outputs": [
        {
          "output_type": "execute_result",
          "data": {
            "text/plain": [
              "array([3286.60823644, 4055.95521978, 3756.26828208, 3513.5563198 ,\n",
              "       3514.60429161, 4209.02946655, 3884.3246766 , 3663.30381487,\n",
              "       3738.57290465, 4357.92947008])"
            ]
          },
          "metadata": {
            "tags": []
          },
          "execution_count": 45
        }
      ]
    },
    {
      "cell_type": "code",
      "metadata": {
        "id": "3nE-OVvDiUft",
        "colab": {
          "base_uri": "https://localhost:8080/",
          "height": 173
        },
        "outputId": "71830f69-2cd0-4a77-a0c4-0c7fa7755271"
      },
      "source": [
        "#Compare the results \n",
        "\n",
        "data = {\"MODEL\":pd.Series([\"rmse_linear\",\"rmse_Exp\",\"rmse_Quad\",\"rmse_Arima\"]),\"RMSE_Values\":pd.Series([rmse_linear,rmse_Exp,rmse_Quad,rmse])}\n",
        "table_rmse=pd.DataFrame(data)\n",
        "table_rmse.sort_values(['RMSE_Values'])"
      ],
      "execution_count": 46,
      "outputs": [
        {
          "output_type": "execute_result",
          "data": {
            "text/html": [
              "<div>\n",
              "<style scoped>\n",
              "    .dataframe tbody tr th:only-of-type {\n",
              "        vertical-align: middle;\n",
              "    }\n",
              "\n",
              "    .dataframe tbody tr th {\n",
              "        vertical-align: top;\n",
              "    }\n",
              "\n",
              "    .dataframe thead th {\n",
              "        text-align: right;\n",
              "    }\n",
              "</style>\n",
              "<table border=\"1\" class=\"dataframe\">\n",
              "  <thead>\n",
              "    <tr style=\"text-align: right;\">\n",
              "      <th></th>\n",
              "      <th>MODEL</th>\n",
              "      <th>RMSE_Values</th>\n",
              "    </tr>\n",
              "  </thead>\n",
              "  <tbody>\n",
              "    <tr>\n",
              "      <th>1</th>\n",
              "      <td>rmse_Exp</td>\n",
              "      <td>493.348648</td>\n",
              "    </tr>\n",
              "    <tr>\n",
              "      <th>2</th>\n",
              "      <td>rmse_Quad</td>\n",
              "      <td>511.811732</td>\n",
              "    </tr>\n",
              "    <tr>\n",
              "      <th>3</th>\n",
              "      <td>rmse_Arima</td>\n",
              "      <td>629.158034</td>\n",
              "    </tr>\n",
              "    <tr>\n",
              "      <th>0</th>\n",
              "      <td>rmse_linear</td>\n",
              "      <td>636.507293</td>\n",
              "    </tr>\n",
              "  </tbody>\n",
              "</table>\n",
              "</div>"
            ],
            "text/plain": [
              "         MODEL  RMSE_Values\n",
              "1     rmse_Exp   493.348648\n",
              "2    rmse_Quad   511.811732\n",
              "3   rmse_Arima   629.158034\n",
              "0  rmse_linear   636.507293"
            ]
          },
          "metadata": {
            "tags": []
          },
          "execution_count": 46
        }
      ]
    },
    {
      "cell_type": "markdown",
      "metadata": {
        "id": "trpcrfTmjJ9x"
      },
      "source": [
        " **Based on the above RMSE Score, Exponential is the best method for Forecasting.**"
      ]
    }
  ]
}